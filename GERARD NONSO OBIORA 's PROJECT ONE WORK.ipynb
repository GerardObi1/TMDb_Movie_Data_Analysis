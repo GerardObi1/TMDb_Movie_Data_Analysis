{
 "cells": [
  {
   "cell_type": "markdown",
   "metadata": {},
   "source": [
    "\n",
    "# Project: TMDb Movie Data Analysis\n",
    "\n",
    "## Table of Content\n",
    "<ul>\n",
    "<li><a href=\"#intro\">Introduction</a></li>\n",
    "<li><a href=\"#questions\">Questions</a></li>\n",
    "<li><a href=\"#wrangling\">Data Wrangling</a></li>\n",
    "<li><a href=\"#eda\">Exploratory Data Analysis</a></li>\n",
    "<li><a href=\"#conclusions\">Conclusions</a></li>\n",
    "<li><a href=\"#limitations\">Limitations</a></li>\n",
    "<li><a href=\"#references\">References</a></li>\n",
    "</ul>"
   ]
  },
  {
   "cell_type": "markdown",
   "metadata": {},
   "source": [
    "<a id='intro'></a>\n",
    "## Introduction\n",
    "\n",
    "### Dataset Description \n",
    "This dataset contains information about 10,000 movies collected from The Movie Database (TMDb), including user ratings and revenue. It contains (before performing analysis) 10866 rows and 21 columns.\n",
    "     It consists of the following columns:\n",
    "id                      (Shows the movie's ID),\n",
    "imdb_id                 (Shows the movie's IMDB ID),\n",
    "popularity              (Shows how popular the movie is),\n",
    "budget                  (Shows the budget of the movie),\n",
    "revenue                 (Shows the revenue of the movie),\n",
    "original_title          (Shows the original title of the movie),\n",
    "cast                    (Shows the movie casts),\n",
    "homepage                (Shows the movie homepage),\n",
    "director                (Shows the name of the movie director(s)),\n",
    "tagline                 (Shows the movie tagline),\n",
    "keywords                (Shows notable keywords),\n",
    "overview                (Shows the overview of the movie),\n",
    "runtime                 (Shows the movie runtime),\n",
    "genres                  (Shows the list of the movie genres separated accordingly),\n",
    "production_companies    (Shows the list of the various movie production companies), \n",
    "release_date            (Shows the movie release date),\n",
    "vote_count              (Shows the vote count of the movie),\n",
    "vote_average            (Shows the vote count average of the movie),\n",
    "release_year            (Shows movie release year),\n",
    "budget_adj              (Shows movie budget adjustment),\n",
    "revenue_adj             (Shows movie revenue adjustment)."
   ]
  },
  {
   "cell_type": "markdown",
   "metadata": {},
   "source": [
    "<a id='questions'></a>\n",
    "## Questions\n",
    "1. Which year had the most and least released movies?\n",
    "2. What vote count had the highest number in terms of movies under its category?\n",
    "3. Which movie genre was mostly released across the years?\n",
    "4. How many movie entries had the most occurring budget?\n",
    "5. Name the movies that make up the most reoccurring non-zero revenue returns\n",
    "6. What number of movies had the most occurring runtime?\n",
    "7. What does the plot of runtime and popularity show?\n",
    "8. What relationship does the plot of vote_count and vote_average depict?"
   ]
  },
  {
   "cell_type": "code",
   "execution_count": 99,
   "metadata": {},
   "outputs": [],
   "source": [
    "# Import Statements\n",
    "import numpy as np\n",
    "import pandas as pd\n",
    "import matplotlib.pyplot as plt\n",
    "%matplotlib inline"
   ]
  },
  {
   "cell_type": "markdown",
   "metadata": {},
   "source": [
    "<a id='wrangling'></a>\n",
    "## Data Wrangling\n",
    "\n",
    "### Data Inspection\n",
    "Here, a brief inspection of the dataset is carried out in order to determine the next line of action to take."
   ]
  },
  {
   "cell_type": "code",
   "execution_count": 100,
   "metadata": {},
   "outputs": [],
   "source": [
    "# Loading dataset\n",
    "tmdb_movies = pd.read_csv('tmdb-movies.csv')"
   ]
  },
  {
   "cell_type": "code",
   "execution_count": 101,
   "metadata": {},
   "outputs": [
    {
     "name": "stdout",
     "output_type": "stream",
     "text": [
      "<class 'pandas.core.frame.DataFrame'>\n",
      "RangeIndex: 10866 entries, 0 to 10865\n",
      "Data columns (total 21 columns):\n",
      " #   Column                Non-Null Count  Dtype  \n",
      "---  ------                --------------  -----  \n",
      " 0   id                    10866 non-null  int64  \n",
      " 1   imdb_id               10856 non-null  object \n",
      " 2   popularity            10866 non-null  float64\n",
      " 3   budget                10866 non-null  int64  \n",
      " 4   revenue               10866 non-null  int64  \n",
      " 5   original_title        10866 non-null  object \n",
      " 6   cast                  10790 non-null  object \n",
      " 7   homepage              2936 non-null   object \n",
      " 8   director              10822 non-null  object \n",
      " 9   tagline               8042 non-null   object \n",
      " 10  keywords              9373 non-null   object \n",
      " 11  overview              10862 non-null  object \n",
      " 12  runtime               10866 non-null  int64  \n",
      " 13  genres                10843 non-null  object \n",
      " 14  production_companies  9836 non-null   object \n",
      " 15  release_date          10866 non-null  object \n",
      " 16  vote_count            10866 non-null  int64  \n",
      " 17  vote_average          10866 non-null  float64\n",
      " 18  release_year          10866 non-null  int64  \n",
      " 19  budget_adj            10866 non-null  float64\n",
      " 20  revenue_adj           10866 non-null  float64\n",
      "dtypes: float64(4), int64(6), object(11)\n",
      "memory usage: 1.7+ MB\n"
     ]
    }
   ],
   "source": [
    "# Carrying out initial checks - 1\n",
    "tmdb_movies.info()"
   ]
  },
  {
   "cell_type": "code",
   "execution_count": 102,
   "metadata": {},
   "outputs": [
    {
     "data": {
      "text/html": [
       "<div>\n",
       "<style scoped>\n",
       "    .dataframe tbody tr th:only-of-type {\n",
       "        vertical-align: middle;\n",
       "    }\n",
       "\n",
       "    .dataframe tbody tr th {\n",
       "        vertical-align: top;\n",
       "    }\n",
       "\n",
       "    .dataframe thead th {\n",
       "        text-align: right;\n",
       "    }\n",
       "</style>\n",
       "<table border=\"1\" class=\"dataframe\">\n",
       "  <thead>\n",
       "    <tr style=\"text-align: right;\">\n",
       "      <th></th>\n",
       "      <th>id</th>\n",
       "      <th>imdb_id</th>\n",
       "      <th>popularity</th>\n",
       "      <th>budget</th>\n",
       "      <th>revenue</th>\n",
       "      <th>original_title</th>\n",
       "      <th>cast</th>\n",
       "      <th>homepage</th>\n",
       "      <th>director</th>\n",
       "      <th>tagline</th>\n",
       "      <th>...</th>\n",
       "      <th>overview</th>\n",
       "      <th>runtime</th>\n",
       "      <th>genres</th>\n",
       "      <th>production_companies</th>\n",
       "      <th>release_date</th>\n",
       "      <th>vote_count</th>\n",
       "      <th>vote_average</th>\n",
       "      <th>release_year</th>\n",
       "      <th>budget_adj</th>\n",
       "      <th>revenue_adj</th>\n",
       "    </tr>\n",
       "  </thead>\n",
       "  <tbody>\n",
       "    <tr>\n",
       "      <th>0</th>\n",
       "      <td>135397</td>\n",
       "      <td>tt0369610</td>\n",
       "      <td>32.985763</td>\n",
       "      <td>150000000</td>\n",
       "      <td>1513528810</td>\n",
       "      <td>Jurassic World</td>\n",
       "      <td>Chris Pratt|Bryce Dallas Howard|Irrfan Khan|Vi...</td>\n",
       "      <td>http://www.jurassicworld.com/</td>\n",
       "      <td>Colin Trevorrow</td>\n",
       "      <td>The park is open.</td>\n",
       "      <td>...</td>\n",
       "      <td>Twenty-two years after the events of Jurassic ...</td>\n",
       "      <td>124</td>\n",
       "      <td>Action|Adventure|Science Fiction|Thriller</td>\n",
       "      <td>Universal Studios|Amblin Entertainment|Legenda...</td>\n",
       "      <td>6/9/15</td>\n",
       "      <td>5562</td>\n",
       "      <td>6.5</td>\n",
       "      <td>2015</td>\n",
       "      <td>1.379999e+08</td>\n",
       "      <td>1.392446e+09</td>\n",
       "    </tr>\n",
       "    <tr>\n",
       "      <th>1</th>\n",
       "      <td>76341</td>\n",
       "      <td>tt1392190</td>\n",
       "      <td>28.419936</td>\n",
       "      <td>150000000</td>\n",
       "      <td>378436354</td>\n",
       "      <td>Mad Max: Fury Road</td>\n",
       "      <td>Tom Hardy|Charlize Theron|Hugh Keays-Byrne|Nic...</td>\n",
       "      <td>http://www.madmaxmovie.com/</td>\n",
       "      <td>George Miller</td>\n",
       "      <td>What a Lovely Day.</td>\n",
       "      <td>...</td>\n",
       "      <td>An apocalyptic story set in the furthest reach...</td>\n",
       "      <td>120</td>\n",
       "      <td>Action|Adventure|Science Fiction|Thriller</td>\n",
       "      <td>Village Roadshow Pictures|Kennedy Miller Produ...</td>\n",
       "      <td>5/13/15</td>\n",
       "      <td>6185</td>\n",
       "      <td>7.1</td>\n",
       "      <td>2015</td>\n",
       "      <td>1.379999e+08</td>\n",
       "      <td>3.481613e+08</td>\n",
       "    </tr>\n",
       "    <tr>\n",
       "      <th>2</th>\n",
       "      <td>262500</td>\n",
       "      <td>tt2908446</td>\n",
       "      <td>13.112507</td>\n",
       "      <td>110000000</td>\n",
       "      <td>295238201</td>\n",
       "      <td>Insurgent</td>\n",
       "      <td>Shailene Woodley|Theo James|Kate Winslet|Ansel...</td>\n",
       "      <td>http://www.thedivergentseries.movie/#insurgent</td>\n",
       "      <td>Robert Schwentke</td>\n",
       "      <td>One Choice Can Destroy You</td>\n",
       "      <td>...</td>\n",
       "      <td>Beatrice Prior must confront her inner demons ...</td>\n",
       "      <td>119</td>\n",
       "      <td>Adventure|Science Fiction|Thriller</td>\n",
       "      <td>Summit Entertainment|Mandeville Films|Red Wago...</td>\n",
       "      <td>3/18/15</td>\n",
       "      <td>2480</td>\n",
       "      <td>6.3</td>\n",
       "      <td>2015</td>\n",
       "      <td>1.012000e+08</td>\n",
       "      <td>2.716190e+08</td>\n",
       "    </tr>\n",
       "  </tbody>\n",
       "</table>\n",
       "<p>3 rows × 21 columns</p>\n",
       "</div>"
      ],
      "text/plain": [
       "       id    imdb_id  popularity     budget     revenue      original_title  \\\n",
       "0  135397  tt0369610   32.985763  150000000  1513528810      Jurassic World   \n",
       "1   76341  tt1392190   28.419936  150000000   378436354  Mad Max: Fury Road   \n",
       "2  262500  tt2908446   13.112507  110000000   295238201           Insurgent   \n",
       "\n",
       "                                                cast  \\\n",
       "0  Chris Pratt|Bryce Dallas Howard|Irrfan Khan|Vi...   \n",
       "1  Tom Hardy|Charlize Theron|Hugh Keays-Byrne|Nic...   \n",
       "2  Shailene Woodley|Theo James|Kate Winslet|Ansel...   \n",
       "\n",
       "                                         homepage          director  \\\n",
       "0                   http://www.jurassicworld.com/   Colin Trevorrow   \n",
       "1                     http://www.madmaxmovie.com/     George Miller   \n",
       "2  http://www.thedivergentseries.movie/#insurgent  Robert Schwentke   \n",
       "\n",
       "                      tagline  ...  \\\n",
       "0           The park is open.  ...   \n",
       "1          What a Lovely Day.  ...   \n",
       "2  One Choice Can Destroy You  ...   \n",
       "\n",
       "                                            overview runtime  \\\n",
       "0  Twenty-two years after the events of Jurassic ...     124   \n",
       "1  An apocalyptic story set in the furthest reach...     120   \n",
       "2  Beatrice Prior must confront her inner demons ...     119   \n",
       "\n",
       "                                      genres  \\\n",
       "0  Action|Adventure|Science Fiction|Thriller   \n",
       "1  Action|Adventure|Science Fiction|Thriller   \n",
       "2         Adventure|Science Fiction|Thriller   \n",
       "\n",
       "                                production_companies release_date vote_count  \\\n",
       "0  Universal Studios|Amblin Entertainment|Legenda...       6/9/15       5562   \n",
       "1  Village Roadshow Pictures|Kennedy Miller Produ...      5/13/15       6185   \n",
       "2  Summit Entertainment|Mandeville Films|Red Wago...      3/18/15       2480   \n",
       "\n",
       "   vote_average  release_year    budget_adj   revenue_adj  \n",
       "0           6.5          2015  1.379999e+08  1.392446e+09  \n",
       "1           7.1          2015  1.379999e+08  3.481613e+08  \n",
       "2           6.3          2015  1.012000e+08  2.716190e+08  \n",
       "\n",
       "[3 rows x 21 columns]"
      ]
     },
     "execution_count": 102,
     "metadata": {},
     "output_type": "execute_result"
    }
   ],
   "source": [
    "# Carrying out initial checks - 2\n",
    "tmdb_movies.head(3)      # should display the first three rows of the dataset"
   ]
  },
  {
   "cell_type": "code",
   "execution_count": 103,
   "metadata": {},
   "outputs": [
    {
     "data": {
      "text/html": [
       "<div>\n",
       "<style scoped>\n",
       "    .dataframe tbody tr th:only-of-type {\n",
       "        vertical-align: middle;\n",
       "    }\n",
       "\n",
       "    .dataframe tbody tr th {\n",
       "        vertical-align: top;\n",
       "    }\n",
       "\n",
       "    .dataframe thead th {\n",
       "        text-align: right;\n",
       "    }\n",
       "</style>\n",
       "<table border=\"1\" class=\"dataframe\">\n",
       "  <thead>\n",
       "    <tr style=\"text-align: right;\">\n",
       "      <th></th>\n",
       "      <th>id</th>\n",
       "      <th>popularity</th>\n",
       "      <th>budget</th>\n",
       "      <th>revenue</th>\n",
       "      <th>runtime</th>\n",
       "      <th>vote_count</th>\n",
       "      <th>vote_average</th>\n",
       "      <th>release_year</th>\n",
       "      <th>budget_adj</th>\n",
       "      <th>revenue_adj</th>\n",
       "    </tr>\n",
       "  </thead>\n",
       "  <tbody>\n",
       "    <tr>\n",
       "      <th>count</th>\n",
       "      <td>10866.000000</td>\n",
       "      <td>10866.000000</td>\n",
       "      <td>1.086600e+04</td>\n",
       "      <td>1.086600e+04</td>\n",
       "      <td>10866.000000</td>\n",
       "      <td>10866.000000</td>\n",
       "      <td>10866.000000</td>\n",
       "      <td>10866.000000</td>\n",
       "      <td>1.086600e+04</td>\n",
       "      <td>1.086600e+04</td>\n",
       "    </tr>\n",
       "    <tr>\n",
       "      <th>mean</th>\n",
       "      <td>66064.177434</td>\n",
       "      <td>0.646441</td>\n",
       "      <td>1.462570e+07</td>\n",
       "      <td>3.982332e+07</td>\n",
       "      <td>102.070863</td>\n",
       "      <td>217.389748</td>\n",
       "      <td>5.974922</td>\n",
       "      <td>2001.322658</td>\n",
       "      <td>1.755104e+07</td>\n",
       "      <td>5.136436e+07</td>\n",
       "    </tr>\n",
       "    <tr>\n",
       "      <th>std</th>\n",
       "      <td>92130.136561</td>\n",
       "      <td>1.000185</td>\n",
       "      <td>3.091321e+07</td>\n",
       "      <td>1.170035e+08</td>\n",
       "      <td>31.381405</td>\n",
       "      <td>575.619058</td>\n",
       "      <td>0.935142</td>\n",
       "      <td>12.812941</td>\n",
       "      <td>3.430616e+07</td>\n",
       "      <td>1.446325e+08</td>\n",
       "    </tr>\n",
       "    <tr>\n",
       "      <th>min</th>\n",
       "      <td>5.000000</td>\n",
       "      <td>0.000065</td>\n",
       "      <td>0.000000e+00</td>\n",
       "      <td>0.000000e+00</td>\n",
       "      <td>0.000000</td>\n",
       "      <td>10.000000</td>\n",
       "      <td>1.500000</td>\n",
       "      <td>1960.000000</td>\n",
       "      <td>0.000000e+00</td>\n",
       "      <td>0.000000e+00</td>\n",
       "    </tr>\n",
       "    <tr>\n",
       "      <th>25%</th>\n",
       "      <td>10596.250000</td>\n",
       "      <td>0.207583</td>\n",
       "      <td>0.000000e+00</td>\n",
       "      <td>0.000000e+00</td>\n",
       "      <td>90.000000</td>\n",
       "      <td>17.000000</td>\n",
       "      <td>5.400000</td>\n",
       "      <td>1995.000000</td>\n",
       "      <td>0.000000e+00</td>\n",
       "      <td>0.000000e+00</td>\n",
       "    </tr>\n",
       "    <tr>\n",
       "      <th>50%</th>\n",
       "      <td>20669.000000</td>\n",
       "      <td>0.383856</td>\n",
       "      <td>0.000000e+00</td>\n",
       "      <td>0.000000e+00</td>\n",
       "      <td>99.000000</td>\n",
       "      <td>38.000000</td>\n",
       "      <td>6.000000</td>\n",
       "      <td>2006.000000</td>\n",
       "      <td>0.000000e+00</td>\n",
       "      <td>0.000000e+00</td>\n",
       "    </tr>\n",
       "    <tr>\n",
       "      <th>75%</th>\n",
       "      <td>75610.000000</td>\n",
       "      <td>0.713817</td>\n",
       "      <td>1.500000e+07</td>\n",
       "      <td>2.400000e+07</td>\n",
       "      <td>111.000000</td>\n",
       "      <td>145.750000</td>\n",
       "      <td>6.600000</td>\n",
       "      <td>2011.000000</td>\n",
       "      <td>2.085325e+07</td>\n",
       "      <td>3.369710e+07</td>\n",
       "    </tr>\n",
       "    <tr>\n",
       "      <th>max</th>\n",
       "      <td>417859.000000</td>\n",
       "      <td>32.985763</td>\n",
       "      <td>4.250000e+08</td>\n",
       "      <td>2.781506e+09</td>\n",
       "      <td>900.000000</td>\n",
       "      <td>9767.000000</td>\n",
       "      <td>9.200000</td>\n",
       "      <td>2015.000000</td>\n",
       "      <td>4.250000e+08</td>\n",
       "      <td>2.827124e+09</td>\n",
       "    </tr>\n",
       "  </tbody>\n",
       "</table>\n",
       "</div>"
      ],
      "text/plain": [
       "                  id    popularity        budget       revenue       runtime  \\\n",
       "count   10866.000000  10866.000000  1.086600e+04  1.086600e+04  10866.000000   \n",
       "mean    66064.177434      0.646441  1.462570e+07  3.982332e+07    102.070863   \n",
       "std     92130.136561      1.000185  3.091321e+07  1.170035e+08     31.381405   \n",
       "min         5.000000      0.000065  0.000000e+00  0.000000e+00      0.000000   \n",
       "25%     10596.250000      0.207583  0.000000e+00  0.000000e+00     90.000000   \n",
       "50%     20669.000000      0.383856  0.000000e+00  0.000000e+00     99.000000   \n",
       "75%     75610.000000      0.713817  1.500000e+07  2.400000e+07    111.000000   \n",
       "max    417859.000000     32.985763  4.250000e+08  2.781506e+09    900.000000   \n",
       "\n",
       "         vote_count  vote_average  release_year    budget_adj   revenue_adj  \n",
       "count  10866.000000  10866.000000  10866.000000  1.086600e+04  1.086600e+04  \n",
       "mean     217.389748      5.974922   2001.322658  1.755104e+07  5.136436e+07  \n",
       "std      575.619058      0.935142     12.812941  3.430616e+07  1.446325e+08  \n",
       "min       10.000000      1.500000   1960.000000  0.000000e+00  0.000000e+00  \n",
       "25%       17.000000      5.400000   1995.000000  0.000000e+00  0.000000e+00  \n",
       "50%       38.000000      6.000000   2006.000000  0.000000e+00  0.000000e+00  \n",
       "75%      145.750000      6.600000   2011.000000  2.085325e+07  3.369710e+07  \n",
       "max     9767.000000      9.200000   2015.000000  4.250000e+08  2.827124e+09  "
      ]
     },
     "execution_count": 103,
     "metadata": {},
     "output_type": "execute_result"
    }
   ],
   "source": [
    "# Carrying out initial checks - 3\n",
    "tmdb_movies.describe()"
   ]
  },
  {
   "cell_type": "code",
   "execution_count": 104,
   "metadata": {},
   "outputs": [
    {
     "data": {
      "text/plain": [
       "(10866, 21)"
      ]
     },
     "execution_count": 104,
     "metadata": {},
     "output_type": "execute_result"
    }
   ],
   "source": [
    "# Carrying out initial checks - 4\n",
    "tmdb_movies.shape"
   ]
  },
  {
   "cell_type": "markdown",
   "metadata": {},
   "source": [
    "\n",
    "### Data Cleaning\n",
    "\n",
    "Here, the dataset is cleaned. "
   ]
  },
  {
   "cell_type": "code",
   "execution_count": 105,
   "metadata": {},
   "outputs": [
    {
     "data": {
      "text/plain": [
       "0        False\n",
       "1        False\n",
       "2        False\n",
       "3        False\n",
       "4        False\n",
       "         ...  \n",
       "10861    False\n",
       "10862    False\n",
       "10863    False\n",
       "10864    False\n",
       "10865    False\n",
       "Length: 10866, dtype: bool"
      ]
     },
     "execution_count": 105,
     "metadata": {},
     "output_type": "execute_result"
    }
   ],
   "source": [
    "# Checking for duplicates - just in case there are any\n",
    "tmdb_movies.duplicated()"
   ]
  },
  {
   "cell_type": "code",
   "execution_count": 106,
   "metadata": {},
   "outputs": [],
   "source": [
    "# Dropping duplicate rows\n",
    "tmdb_movies.drop_duplicates(inplace=True)"
   ]
  },
  {
   "cell_type": "code",
   "execution_count": 107,
   "metadata": {},
   "outputs": [
    {
     "data": {
      "text/plain": [
       "0        False\n",
       "1        False\n",
       "2        False\n",
       "3        False\n",
       "4        False\n",
       "         ...  \n",
       "10861    False\n",
       "10862    False\n",
       "10863    False\n",
       "10864    False\n",
       "10865    False\n",
       "Length: 10865, dtype: bool"
      ]
     },
     "execution_count": 107,
     "metadata": {},
     "output_type": "execute_result"
    }
   ],
   "source": [
    "# Re-hecking for duplicates - just in case there are any\n",
    "tmdb_movies.duplicated()        # One duplicate row dropped"
   ]
  },
  {
   "cell_type": "code",
   "execution_count": 108,
   "metadata": {},
   "outputs": [
    {
     "data": {
      "text/plain": [
       "0"
      ]
     },
     "execution_count": 108,
     "metadata": {},
     "output_type": "execute_result"
    }
   ],
   "source": [
    "# Confirming that there are no duplicates\n",
    "tmdb_movies.duplicated().sum()"
   ]
  },
  {
   "cell_type": "code",
   "execution_count": 109,
   "metadata": {},
   "outputs": [],
   "source": [
    "# Dropping columns not really needed as they had null values and as well would not be used in the analysis\n",
    "tmdb_movies.drop(['cast', 'homepage', 'director', 'tagline', 'production_companies', 'budget_adj', 'revenue_adj', 'keywords', \n",
    "        'overview'], axis=1, inplace=True)"
   ]
  },
  {
   "cell_type": "code",
   "execution_count": 110,
   "metadata": {},
   "outputs": [],
   "source": [
    "# Dropping null rows of the 'genres' column \n",
    "tmdb_movies.dropna(inplace=True)"
   ]
  },
  {
   "cell_type": "code",
   "execution_count": 111,
   "metadata": {},
   "outputs": [],
   "source": [
    "# Dropping all '0' values in the 'budget' column\n",
    "tmdb_movies = tmdb_movies[tmdb_movies.budget !=0]"
   ]
  },
  {
   "cell_type": "code",
   "execution_count": 112,
   "metadata": {
    "scrolled": true
   },
   "outputs": [
    {
     "data": {
      "text/plain": [
       "20000000    190\n",
       "15000000    183\n",
       "25000000    178\n",
       "10000000    176\n",
       "30000000    164\n",
       "           ... \n",
       "40000         1\n",
       "28            1\n",
       "68            1\n",
       "3500159       1\n",
       "19000         1\n",
       "Name: budget, Length: 555, dtype: int64"
      ]
     },
     "execution_count": 112,
     "metadata": {},
     "output_type": "execute_result"
    }
   ],
   "source": [
    "# Counting each value of the budget column to see if '0'values are there\n",
    "tmdb_movies.budget.value_counts()"
   ]
  },
  {
   "cell_type": "code",
   "execution_count": 113,
   "metadata": {},
   "outputs": [
    {
     "name": "stdout",
     "output_type": "stream",
     "text": [
      "<class 'pandas.core.frame.DataFrame'>\n",
      "Int64Index: 5167 entries, 0 to 10865\n",
      "Data columns (total 12 columns):\n",
      " #   Column          Non-Null Count  Dtype  \n",
      "---  ------          --------------  -----  \n",
      " 0   id              5167 non-null   int64  \n",
      " 1   imdb_id         5167 non-null   object \n",
      " 2   popularity      5167 non-null   float64\n",
      " 3   budget          5167 non-null   int64  \n",
      " 4   revenue         5167 non-null   int64  \n",
      " 5   original_title  5167 non-null   object \n",
      " 6   runtime         5167 non-null   int64  \n",
      " 7   genres          5167 non-null   object \n",
      " 8   release_date    5167 non-null   object \n",
      " 9   vote_count      5167 non-null   int64  \n",
      " 10  vote_average    5167 non-null   float64\n",
      " 11  release_year    5167 non-null   int64  \n",
      "dtypes: float64(2), int64(6), object(4)\n",
      "memory usage: 524.8+ KB\n"
     ]
    }
   ],
   "source": [
    "# Confirming that null rows ('genres' column) and rows with zero budget have been dropped\n",
    "tmdb_movies.info()     "
   ]
  },
  {
   "cell_type": "code",
   "execution_count": 114,
   "metadata": {},
   "outputs": [
    {
     "data": {
      "text/html": [
       "<div>\n",
       "<style scoped>\n",
       "    .dataframe tbody tr th:only-of-type {\n",
       "        vertical-align: middle;\n",
       "    }\n",
       "\n",
       "    .dataframe tbody tr th {\n",
       "        vertical-align: top;\n",
       "    }\n",
       "\n",
       "    .dataframe thead th {\n",
       "        text-align: right;\n",
       "    }\n",
       "</style>\n",
       "<table border=\"1\" class=\"dataframe\">\n",
       "  <thead>\n",
       "    <tr style=\"text-align: right;\">\n",
       "      <th></th>\n",
       "      <th>id</th>\n",
       "      <th>imdb_id</th>\n",
       "      <th>popularity</th>\n",
       "      <th>budget</th>\n",
       "      <th>revenue</th>\n",
       "      <th>original_title</th>\n",
       "      <th>runtime</th>\n",
       "      <th>genres</th>\n",
       "      <th>release_date</th>\n",
       "      <th>vote_count</th>\n",
       "      <th>vote_average</th>\n",
       "      <th>release_year</th>\n",
       "    </tr>\n",
       "  </thead>\n",
       "  <tbody>\n",
       "    <tr>\n",
       "      <th>0</th>\n",
       "      <td>135397</td>\n",
       "      <td>tt0369610</td>\n",
       "      <td>32.985763</td>\n",
       "      <td>150000000</td>\n",
       "      <td>1513528810</td>\n",
       "      <td>Jurassic World</td>\n",
       "      <td>124</td>\n",
       "      <td>Action|Adventure|Science Fiction|Thriller</td>\n",
       "      <td>6/9/15</td>\n",
       "      <td>5562</td>\n",
       "      <td>6.5</td>\n",
       "      <td>2015</td>\n",
       "    </tr>\n",
       "    <tr>\n",
       "      <th>1</th>\n",
       "      <td>76341</td>\n",
       "      <td>tt1392190</td>\n",
       "      <td>28.419936</td>\n",
       "      <td>150000000</td>\n",
       "      <td>378436354</td>\n",
       "      <td>Mad Max: Fury Road</td>\n",
       "      <td>120</td>\n",
       "      <td>Action|Adventure|Science Fiction|Thriller</td>\n",
       "      <td>5/13/15</td>\n",
       "      <td>6185</td>\n",
       "      <td>7.1</td>\n",
       "      <td>2015</td>\n",
       "    </tr>\n",
       "    <tr>\n",
       "      <th>2</th>\n",
       "      <td>262500</td>\n",
       "      <td>tt2908446</td>\n",
       "      <td>13.112507</td>\n",
       "      <td>110000000</td>\n",
       "      <td>295238201</td>\n",
       "      <td>Insurgent</td>\n",
       "      <td>119</td>\n",
       "      <td>Adventure|Science Fiction|Thriller</td>\n",
       "      <td>3/18/15</td>\n",
       "      <td>2480</td>\n",
       "      <td>6.3</td>\n",
       "      <td>2015</td>\n",
       "    </tr>\n",
       "    <tr>\n",
       "      <th>3</th>\n",
       "      <td>140607</td>\n",
       "      <td>tt2488496</td>\n",
       "      <td>11.173104</td>\n",
       "      <td>200000000</td>\n",
       "      <td>2068178225</td>\n",
       "      <td>Star Wars: The Force Awakens</td>\n",
       "      <td>136</td>\n",
       "      <td>Action|Adventure|Science Fiction|Fantasy</td>\n",
       "      <td>12/15/15</td>\n",
       "      <td>5292</td>\n",
       "      <td>7.5</td>\n",
       "      <td>2015</td>\n",
       "    </tr>\n",
       "    <tr>\n",
       "      <th>4</th>\n",
       "      <td>168259</td>\n",
       "      <td>tt2820852</td>\n",
       "      <td>9.335014</td>\n",
       "      <td>190000000</td>\n",
       "      <td>1506249360</td>\n",
       "      <td>Furious 7</td>\n",
       "      <td>137</td>\n",
       "      <td>Action|Crime|Thriller</td>\n",
       "      <td>4/1/15</td>\n",
       "      <td>2947</td>\n",
       "      <td>7.3</td>\n",
       "      <td>2015</td>\n",
       "    </tr>\n",
       "  </tbody>\n",
       "</table>\n",
       "</div>"
      ],
      "text/plain": [
       "       id    imdb_id  popularity     budget     revenue  \\\n",
       "0  135397  tt0369610   32.985763  150000000  1513528810   \n",
       "1   76341  tt1392190   28.419936  150000000   378436354   \n",
       "2  262500  tt2908446   13.112507  110000000   295238201   \n",
       "3  140607  tt2488496   11.173104  200000000  2068178225   \n",
       "4  168259  tt2820852    9.335014  190000000  1506249360   \n",
       "\n",
       "                 original_title  runtime  \\\n",
       "0                Jurassic World      124   \n",
       "1            Mad Max: Fury Road      120   \n",
       "2                     Insurgent      119   \n",
       "3  Star Wars: The Force Awakens      136   \n",
       "4                     Furious 7      137   \n",
       "\n",
       "                                      genres release_date  vote_count  \\\n",
       "0  Action|Adventure|Science Fiction|Thriller       6/9/15        5562   \n",
       "1  Action|Adventure|Science Fiction|Thriller      5/13/15        6185   \n",
       "2         Adventure|Science Fiction|Thriller      3/18/15        2480   \n",
       "3   Action|Adventure|Science Fiction|Fantasy     12/15/15        5292   \n",
       "4                      Action|Crime|Thriller       4/1/15        2947   \n",
       "\n",
       "   vote_average  release_year  \n",
       "0           6.5          2015  \n",
       "1           7.1          2015  \n",
       "2           6.3          2015  \n",
       "3           7.5          2015  \n",
       "4           7.3          2015  "
      ]
     },
     "execution_count": 114,
     "metadata": {},
     "output_type": "execute_result"
    }
   ],
   "source": [
    "# Looking up the first five rows of the newly cleaned dataset\n",
    "tmdb_movies.head(5)"
   ]
  },
  {
   "cell_type": "markdown",
   "metadata": {},
   "source": [
    "<a id='eda'></a>\n",
    "## Exploratory Data Analysis\n",
    "\n",
    "Here, relevant manipulation/computation of the cleaned dataset are made and with supporting visualizations as well. The end goal being to answer the posed questions."
   ]
  },
  {
   "cell_type": "code",
   "execution_count": 115,
   "metadata": {},
   "outputs": [
    {
     "data": {
      "image/png": "[encoded data removed]",
      "text/plain": [
       "<Figure size 1080x1080 with 9 Axes>"
      ]
     },
     "metadata": {
      "needs_background": "light"
     },
     "output_type": "display_data"
    }
   ],
   "source": [
    "# Plotting the graphs of some of the columns of the dataset to get a visual picture of them \n",
    "tmdb_movies.hist(figsize=(15,15));"
   ]
  },
  {
   "cell_type": "markdown",
   "metadata": {},
   "source": [
    "### Research Question 1: Which year had the most and least released movies?"
   ]
  },
  {
   "cell_type": "code",
   "execution_count": 116,
   "metadata": {},
   "outputs": [
    {
     "data": {
      "image/png": "[encoded data removed]",
      "text/plain": [
       "<Figure size 1296x1296 with 1 Axes>"
      ]
     },
     "metadata": {
      "needs_background": "light"
     },
     "output_type": "display_data"
    }
   ],
   "source": [
    "# Plot of release_year\n",
    "# Different colours were assigned to each year's bar\n",
    "tmdb_movies['release_year'].value_counts().plot(kind='bar', figsize=(18,18), color=['black', 'blue', 'red', 'green', 'blue', \n",
    "    'maroon', 'yellow', 'gray', 'silver', 'tomato', 'lime', 'magenta', 'cyan', 'olive', 'purple', 'teal', 'navy', 'gold',\n",
    "    'brown', 'crimson', 'coral', 'firebrick', 'orange', 'khaki', 'chartreuse', 'orchid','plum', 'thistle', 'wheat', 'peru',\n",
    "    'chocolate', 'sienna', 'tan', 'moccasin'], title='Plot showing the number of movies released in a particular year',\n",
    "     xlabel='Movie release year', ylabel='Count of movies released in a year');  \n"
   ]
  },
  {
   "cell_type": "markdown",
   "metadata": {},
   "source": [
    "#### Research Question 1: Findings\n",
    "\n",
    "The year movies were released mostly was in 2011 while the year with the least number of released movies is 1960."
   ]
  },
  {
   "cell_type": "markdown",
   "metadata": {},
   "source": [
    "\n",
    "\n",
    "\n",
    "\n",
    "\n",
    "### Research Question 2: What vote count had the highest number in terms of movies under its category?"
   ]
  },
  {
   "cell_type": "code",
   "execution_count": 117,
   "metadata": {},
   "outputs": [
    {
     "data": {
      "text/plain": [
       "10     91\n",
       "11     86\n",
       "12     83\n",
       "13     73\n",
       "16     70\n",
       "       ..\n",
       "907     1\n",
       "539     1\n",
       "599     1\n",
       "794     1\n",
       "464     1\n",
       "Name: vote_count, Length: 1280, dtype: int64"
      ]
     },
     "execution_count": 117,
     "metadata": {},
     "output_type": "execute_result"
    }
   ],
   "source": [
    "# Summing the number of each vote_count\n",
    "tmdb_movies['vote_count'].value_counts()"
   ]
  },
  {
   "cell_type": "code",
   "execution_count": 118,
   "metadata": {},
   "outputs": [
    {
     "data": {
      "image/png": "[encoded data removed]",
      "text/plain": [
       "<Figure size 648x648 with 1 Axes>"
      ]
     },
     "metadata": {
      "needs_background": "light"
     },
     "output_type": "display_data"
    }
   ],
   "source": [
    "# Defining a function that will be used in plotting\n",
    "def graph_plots(**kwargs):\n",
    "    return tmdb_movies[kwargs['x']].value_counts().head(10).plot(xlabel=kwargs['xlabel'], ylabel=kwargs['ylabel'],\n",
    "                       title=kwargs['title'], kind=kwargs['kind'], figsize=(9,9))   \n",
    "\n",
    "graph_plots(x = 'vote_count', title = 'Plot of the first ten sum of each vote_count',\n",
    "            xlabel = 'Vote_count', ylabel = 'Frequency of each vote_count', \n",
    "            kind = 'bar'); # Plots the first ten sum of each vote_count                                                                               "
   ]
  },
  {
   "cell_type": "code",
   "execution_count": 119,
   "metadata": {},
   "outputs": [
    {
     "name": "stdout",
     "output_type": "stream",
     "text": [
      "           id    imdb_id  popularity    budget   revenue  \\\n",
      "1093   230779  tt1621046    0.221957  10000000         0   \n",
      "1120   279914  tt2326574    0.376205  12000000         0   \n",
      "1211   287935  tt2390283    0.112646  18000000         0   \n",
      "1560    29483  tt1209377    0.534927   4300000         0   \n",
      "1592    28677  tt1276107    0.470640   6300000         0   \n",
      "...       ...        ...         ...       ...       ...   \n",
      "10578   26555  tt0090856    0.167621  15000000  12308521   \n",
      "10647   28110  tt0069976    0.066994   1000000   2000000   \n",
      "10684   33157  tt0066549    0.092150  25000000         0   \n",
      "10705   36583  tt0059549    0.225062       115         0   \n",
      "10802   54000  tt0077539    0.227338   6727000         0   \n",
      "\n",
      "                           original_title  runtime  \\\n",
      "1093                         Cesar Chavez      102   \n",
      "1120                        The Identical      107   \n",
      "1211                         Midnight Sun      120   \n",
      "1560                       Beautiful Kate       90   \n",
      "1592   Without a Paddle: Nature's Calling       96   \n",
      "...                                   ...      ...   \n",
      "10578                       Club Paradise       96   \n",
      "10647                           Dillinger      107   \n",
      "10684                            Waterloo      128   \n",
      "10705                  Operation Crossbow      115   \n",
      "10802                              Fedora      114   \n",
      "\n",
      "                             genres release_date  vote_count  vote_average  \\\n",
      "1093                          Drama      3/28/14          10           5.3   \n",
      "1120                    Music|Drama       9/5/14          10           5.0   \n",
      "1211               Family|Adventure       9/1/14          10           4.9   \n",
      "1560          Drama|Foreign|Mystery      6/13/09          10           6.2   \n",
      "1592        Action|Adventure|Comedy      1/13/09          10           5.5   \n",
      "...                             ...          ...         ...           ...   \n",
      "10578          Comedy|Drama|Romance      7/11/86          10           4.1   \n",
      "10647            Action|Crime|Drama      7/20/73          10           6.7   \n",
      "10684  Action|Drama|Foreign|History     10/26/70          10           6.2   \n",
      "10705           Action|Thriller|War       4/1/65          10           5.7   \n",
      "10802                 Drama|Romance      5/30/78          10           4.9   \n",
      "\n",
      "       release_year  \n",
      "1093           2014  \n",
      "1120           2014  \n",
      "1211           2014  \n",
      "1560           2009  \n",
      "1592           2009  \n",
      "...             ...  \n",
      "10578          1986  \n",
      "10647          1973  \n",
      "10684          1970  \n",
      "10705          1965  \n",
      "10802          1978  \n",
      "\n",
      "[91 rows x 12 columns]\n"
     ]
    }
   ],
   "source": [
    "# Grouping by the highest 'vote_count' number\n",
    "highest_votecount_number = tmdb_movies.groupby('vote_count')\n",
    "highest_votecount_number = highest_votecount_number.get_group(10)\n",
    "print(highest_votecount_number)          # Prints the sum of the highest 'vote_count' number"
   ]
  },
  {
   "cell_type": "markdown",
   "metadata": {},
   "source": [
    "#### Research Question 2: Findings\n",
    "\n",
    "The vote_count that had the highest number of movie count under it is '10'."
   ]
  },
  {
   "cell_type": "markdown",
   "metadata": {},
   "source": [
    "\n",
    "\n",
    "\n",
    "\n",
    "\n",
    "### Research Question 3: Which movie genre was mostly released across the years?"
   ]
  },
  {
   "cell_type": "code",
   "execution_count": 120,
   "metadata": {},
   "outputs": [
    {
     "data": {
      "text/plain": [
       "Drama                                   317\n",
       "Comedy                                  292\n",
       "Drama|Romance                           147\n",
       "Horror|Thriller                         134\n",
       "Comedy|Romance                          131\n",
       "                                       ... \n",
       "Drama|Western|War|Romance                 1\n",
       "Adventure|Drama|Fantasy|Horror            1\n",
       "Drama|Thriller|Crime|Mystery|Romance      1\n",
       "Horror|Thriller|Mystery|Fantasy           1\n",
       "Comedy|Family|Mystery|Romance             1\n",
       "Name: genres, Length: 1288, dtype: int64"
      ]
     },
     "execution_count": 120,
     "metadata": {},
     "output_type": "execute_result"
    }
   ],
   "source": [
    "# Summing the number of movie 'genres'\n",
    "tmdb_movies['genres'].value_counts()"
   ]
  },
  {
   "cell_type": "code",
   "execution_count": 121,
   "metadata": {},
   "outputs": [
    {
     "data": {
      "image/png": "[encoded data removed]",
      "text/plain": [
       "<Figure size 648x648 with 1 Axes>"
      ]
     },
     "metadata": {
      "needs_background": "light"
     },
     "output_type": "display_data"
    }
   ],
   "source": [
    "# Plotting the sum of the first ten movie genre\n",
    "graph_plots(x = 'genres', title = 'Plot of the first ten sum of each genre',\n",
    "            xlabel = 'Genres', ylabel = 'Frequency of each genre', \n",
    "            kind = 'bar');   "
   ]
  },
  {
   "cell_type": "code",
   "execution_count": 122,
   "metadata": {},
   "outputs": [
    {
     "name": "stdout",
     "output_type": "stream",
     "text": [
      "           id    imdb_id  popularity    budget    revenue  \\\n",
      "55     295964  tt2503944    2.584264  20000000   36606743   \n",
      "58     306819  tt0810819    2.557859  15000000   64191523   \n",
      "68     312221  tt3076658    2.331567  35000000  137935567   \n",
      "77     321741  tt3322364    2.121884  35000000   48623572   \n",
      "96     298382  tt2910904    1.823130  11930000   18340000   \n",
      "...       ...        ...         ...       ...        ...   \n",
      "10538     383  tt0089537    0.350539     22500          0   \n",
      "10727    3116  tt0064665    0.859806   3600000   44785053   \n",
      "10800   18387  tt0077235    0.177276  11000000          0   \n",
      "10822     396  tt0061184    0.670274   7500000   33736689   \n",
      "10824    2525  tt0060164    0.533292  18000000          0   \n",
      "\n",
      "                        original_title  runtime genres release_date  \\\n",
      "55                               Burnt      100  Drama      10/2/15   \n",
      "58                     The Danish Girl      120  Drama     11/27/15   \n",
      "68                               Creed      133  Drama     11/25/15   \n",
      "77                          Concussion      123  Drama     11/12/15   \n",
      "96                      The Dressmaker      118  Drama      10/1/15   \n",
      "...                                ...      ...    ...          ...   \n",
      "10538                       Mala Noche       78  Drama       2/5/86   \n",
      "10727                  Midnight Cowboy      113  Drama      5/25/69   \n",
      "10800                    Big Wednesday      120  Drama       5/2/78   \n",
      "10822  Who's Afraid of Virginia Woolf?      131  Drama      6/21/66   \n",
      "10824   The Bible: In the Beginning...      174  Drama      9/28/66   \n",
      "\n",
      "       vote_count  vote_average  release_year  \n",
      "55            631           6.3          2015  \n",
      "58            867           7.3          2015  \n",
      "68           1171           7.3          2015  \n",
      "77            500           6.9          2015  \n",
      "96            197           6.9          2015  \n",
      "...           ...           ...           ...  \n",
      "10538          11           5.6          1986  \n",
      "10727         124           7.0          1969  \n",
      "10800          18           5.9          1978  \n",
      "10822          74           7.5          1966  \n",
      "10824          18           5.8          1966  \n",
      "\n",
      "[317 rows x 12 columns]\n"
     ]
    }
   ],
   "source": [
    "# Grouping by the movie 'genres'\n",
    "most_occurring_genre = tmdb_movies.groupby('genres')\n",
    "most_occurring_genre = most_occurring_genre.get_group('Drama')\n",
    "print(most_occurring_genre)          # Prints the most occurring 'genre'"
   ]
  },
  {
   "cell_type": "markdown",
   "metadata": {},
   "source": [
    "#### Research Question 3: Findings\n",
    "\n",
    "The movie genre (Drama) was mostly released across the years."
   ]
  },
  {
   "cell_type": "markdown",
   "metadata": {},
   "source": [
    "\n",
    "\n",
    "\n",
    "\n",
    "\n",
    "### Research Question 4: How many movie entries had the most occurring budget?"
   ]
  },
  {
   "cell_type": "code",
   "execution_count": 123,
   "metadata": {},
   "outputs": [
    {
     "data": {
      "text/plain": [
       "20000000    190\n",
       "15000000    183\n",
       "25000000    178\n",
       "10000000    176\n",
       "30000000    164\n",
       "           ... \n",
       "40000         1\n",
       "28            1\n",
       "68            1\n",
       "3500159       1\n",
       "19000         1\n",
       "Name: budget, Length: 555, dtype: int64"
      ]
     },
     "execution_count": 123,
     "metadata": {},
     "output_type": "execute_result"
    }
   ],
   "source": [
    "# Summing by movie budget\n",
    "tmdb_movies['budget'].value_counts()"
   ]
  },
  {
   "cell_type": "code",
   "execution_count": 124,
   "metadata": {},
   "outputs": [
    {
     "data": {
      "image/png": "[encoded data removed]",
      "text/plain": [
       "<Figure size 648x648 with 1 Axes>"
      ]
     },
     "metadata": {
      "needs_background": "light"
     },
     "output_type": "display_data"
    }
   ],
   "source": [
    "# Plotting the first ten sum of each budget\n",
    "graph_plots(x = 'budget', title = 'Plot of the first ten sum of each budget',\n",
    "            xlabel = 'Budget', ylabel = 'Frequency of each budget', \n",
    "            kind = 'bar'); "
   ]
  },
  {
   "cell_type": "markdown",
   "metadata": {},
   "source": [
    "#### Research Question 4: Findings\n",
    "\n",
    "A total of 190 movies had a budget of 20,000,000 each."
   ]
  },
  {
   "cell_type": "markdown",
   "metadata": {},
   "source": [
    "\n",
    "\n",
    "\n",
    "\n",
    "\n",
    "### Research Question 5: Name the movies that make up the most reoccurring non-zero revenue returns"
   ]
  },
  {
   "cell_type": "code",
   "execution_count": 125,
   "metadata": {
    "scrolled": true
   },
   "outputs": [
    {
     "data": {
      "text/plain": [
       "0           1313\n",
       "12000000       7\n",
       "2000000        5\n",
       "5000000        5\n",
       "11000000       5\n",
       "            ... \n",
       "5728213        1\n",
       "253899         1\n",
       "10126458       1\n",
       "672648         1\n",
       "33736689       1\n",
       "Name: revenue, Length: 3754, dtype: int64"
      ]
     },
     "execution_count": 125,
     "metadata": {},
     "output_type": "execute_result"
    }
   ],
   "source": [
    "# Summing by movie revenue\n",
    "tmdb_movies['revenue'].value_counts()"
   ]
  },
  {
   "cell_type": "code",
   "execution_count": 126,
   "metadata": {},
   "outputs": [
    {
     "data": {
      "image/png": "[encoded data removed]",
      "text/plain": [
       "<Figure size 648x648 with 1 Axes>"
      ]
     },
     "metadata": {
      "needs_background": "light"
     },
     "output_type": "display_data"
    }
   ],
   "source": [
    "# Plotting the first ten sum of each revenue value\n",
    "graph_plots(x = 'revenue', title = 'Plot of the first ten sum of each revenue',\n",
    "            xlabel = 'Revenue', ylabel = 'Frequency of each revenue', \n",
    "            kind = 'bar'); "
   ]
  },
  {
   "cell_type": "code",
   "execution_count": 127,
   "metadata": {},
   "outputs": [
    {
     "name": "stdout",
     "output_type": "stream",
     "text": [
      "          id    imdb_id  popularity    budget   revenue  \\\n",
      "1364   38985  tt0076740    0.219941  22000000  12000000   \n",
      "2591   47288  tt0160429    0.173433  25000000  12000000   \n",
      "2766    7501  tt0211465    0.379856  15000000  12000000   \n",
      "8410   11644  tt0082085    0.308408  18000000  12000000   \n",
      "9905   14703  tt0058404    0.182922   3000000  12000000   \n",
      "10716   2428  tt0059245    0.146033  20000000  12000000   \n",
      "10848   2161  tt0060397    0.207257   5115000  12000000   \n",
      "\n",
      "                     original_title  runtime                     genres  \\\n",
      "1364                       Sorcerer      121  Action|Thriller|Adventure   \n",
      "2591                 The King and I       87     Animation|Drama|Family   \n",
      "2766               Knockaround Guys       92             Crime|Thriller   \n",
      "8410                       Blow Out      108     Drama|Mystery|Thriller   \n",
      "9905        The Night of the Iguana      125              Drama|Romance   \n",
      "10716  The Greatest Story Ever Told      199              Drama|History   \n",
      "10848              Fantastic Voyage      100  Adventure|Science Fiction   \n",
      "\n",
      "      release_date  vote_count  vote_average  release_year  \n",
      "1364       6/24/77          48           7.4          1977  \n",
      "2591       3/19/99          14           4.7          1999  \n",
      "2766        9/7/01          46           5.7          2001  \n",
      "8410       7/24/81          90           7.4          1981  \n",
      "9905        8/6/64          15           5.7          1964  \n",
      "10716      2/15/65          13           5.7          1965  \n",
      "10848      8/24/66          42           6.7          1966  \n"
     ]
    }
   ],
   "source": [
    "# Grouping by the most reoccurring 'revenue'\n",
    "most_reoccurring_revenue = tmdb_movies.groupby('revenue')\n",
    "most_reoccurring_revenue = most_reoccurring_revenue.get_group(12000000.0)\n",
    "print(most_reoccurring_revenue)             # Prints the most reoccurring 'revenue'"
   ]
  },
  {
   "cell_type": "markdown",
   "metadata": {},
   "source": [
    "#### Research Question 5: Findings\n",
    "\n",
    "List of movies having the highest revenue returns are:\n",
    "\n",
    "Sorcerer     \n",
    "The King and I         \n",
    "Knockaround Guys           \n",
    "Blow Out         \n",
    "The Night of the Iguana        \n",
    "The Greatest Story Ever Told        \n",
    "Fantastic Voyage "
   ]
  },
  {
   "cell_type": "markdown",
   "metadata": {},
   "source": [
    "\n",
    "\n",
    "\n",
    "\n",
    "\n",
    "### Research Question 6: What number of movies had the most occurring runtime?"
   ]
  },
  {
   "cell_type": "code",
   "execution_count": 128,
   "metadata": {},
   "outputs": [
    {
     "data": {
      "text/plain": [
       "90     184\n",
       "100    167\n",
       "97     154\n",
       "93     150\n",
       "95     149\n",
       "      ... \n",
       "7        1\n",
       "352      1\n",
       "15       1\n",
       "213      1\n",
       "199      1\n",
       "Name: runtime, Length: 171, dtype: int64"
      ]
     },
     "execution_count": 128,
     "metadata": {},
     "output_type": "execute_result"
    }
   ],
   "source": [
    "# Summing by movie 'runtime'\n",
    "tmdb_movies['runtime'].value_counts()"
   ]
  },
  {
   "cell_type": "code",
   "execution_count": 129,
   "metadata": {},
   "outputs": [
    {
     "name": "stdout",
     "output_type": "stream",
     "text": [
      "           id    imdb_id  popularity    budget   revenue  \\\n",
      "144    291270  tt2401878    1.125239   8000000   3759286   \n",
      "194    354110  tt2271563    0.747541  11000000         0   \n",
      "229    239573  tt2358925    0.577814  35000000  14431253   \n",
      "256    240483  tt2145829    0.486351  21000000         0   \n",
      "309    329540  tt3528666    0.394466   1950000         0   \n",
      "...       ...        ...         ...       ...       ...   \n",
      "9828    27085  tt0073260    0.289443   1500000         0   \n",
      "9939      839  tt0067023    0.462681    450000         0   \n",
      "10079   28090  tt0100107    0.197490   4000000         0   \n",
      "10547   37032  tt0091607    0.311655  10000000         0   \n",
      "10855   13343  tt0059221    0.141026    700000         0   \n",
      "\n",
      "                    original_title  runtime  \\\n",
      "144                      Anomalisa       90   \n",
      "194                       Forsaken       90   \n",
      "229            Unfinished Business       90   \n",
      "256                Robot Overlords       90   \n",
      "309    The Marine 4: Moving Target       90   \n",
      "...                            ...      ...   \n",
      "9828     The Land That Time Forgot       90   \n",
      "9939                          Duel       90   \n",
      "10079                 Maniac Cop 2       90   \n",
      "10547             Nan bei Shao Lin       90   \n",
      "10855      The Ghost & Mr. Chicken       90   \n",
      "\n",
      "                                  genres release_date  vote_count  \\\n",
      "144       Animation|Comedy|Drama|Romance     12/30/15         259   \n",
      "194                        Western|Drama      9/16/15          53   \n",
      "229                               Comedy       3/5/15         241   \n",
      "256     Adventure|Science Fiction|Action      1/29/15          63   \n",
      "309                      Thriller|Action      4/10/15          35   \n",
      "...                                  ...          ...         ...   \n",
      "9828   Adventure|Fantasy|Science Fiction      8/13/75          15   \n",
      "9939      Horror|Action|Mystery|Thriller     11/10/71         166   \n",
      "10079             Horror|Thriller|Action     12/13/90          11   \n",
      "10547                      Action|Comedy       3/1/86          10   \n",
      "10855      Comedy|Family|Mystery|Romance      1/20/66          14   \n",
      "\n",
      "       vote_average  release_year  \n",
      "144             6.7          2015  \n",
      "194             5.6          2015  \n",
      "229             4.9          2015  \n",
      "256             4.9          2015  \n",
      "309             5.7          2015  \n",
      "...             ...           ...  \n",
      "9828            5.7          1975  \n",
      "9939            7.0          1971  \n",
      "10079           4.4          1990  \n",
      "10547           6.7          1986  \n",
      "10855           6.1          1966  \n",
      "\n",
      "[184 rows x 12 columns]\n"
     ]
    }
   ],
   "source": [
    "# Grouping by movie 'runtime'\n",
    "most_movies_runtime = tmdb_movies.groupby('runtime')\n",
    "most_movies_runtime = most_movies_runtime.get_group(90)\n",
    "print(most_movies_runtime)          # Prints the most occurring movie 'runtime'"
   ]
  },
  {
   "cell_type": "markdown",
   "metadata": {},
   "source": [
    "#### Research Question 6: Findings\n",
    "\n",
    "A total of 184 movies had a runtime of 90 (1hour 30 minutes)."
   ]
  },
  {
   "cell_type": "markdown",
   "metadata": {},
   "source": [
    "### Research Question 7: What does the plot of runtime and popularity show?"
   ]
  },
  {
   "cell_type": "code",
   "execution_count": 130,
   "metadata": {},
   "outputs": [
    {
     "data": {
      "image/png": "[encoded data removed]",
      "text/plain": [
       "<Figure size 432x288 with 1 Axes>"
      ]
     },
     "metadata": {
      "needs_background": "light"
     },
     "output_type": "display_data"
    },
    {
     "data": {
      "image/png": "[encoded data removed]",
      "text/plain": [
       "<Figure size 432x288 with 1 Axes>"
      ]
     },
     "metadata": {
      "needs_background": "light"
     },
     "output_type": "display_data"
    }
   ],
   "source": [
    "# plot of runtime and popularity alternated differently\n",
    "tmdb_movies.plot(x='popularity', y='runtime', kind='scatter', color='green', \n",
    "         title='Plot of runtime and popularity');        # First instance of plot\n",
    "\n",
    "\n",
    "tmdb_movies.plot(x='runtime', y='popularity', kind='scatter', color='gray', \n",
    "         title='Plot of runtime and popularity');        # Second instance of plot"
   ]
  },
  {
   "cell_type": "markdown",
   "metadata": {},
   "source": [
    "#### Research Question 7: Findings\n",
    "\n",
    "Plot of runtime and popularity shows that most of the movies having runtime between 0-200 minutes had higher popularity than those of other runtime range(s)."
   ]
  },
  {
   "cell_type": "markdown",
   "metadata": {},
   "source": [
    "\n",
    "\n",
    "\n",
    "### Research Question 8: What relationship does the plot of vote_count and vote_average depict?"
   ]
  },
  {
   "cell_type": "code",
   "execution_count": 131,
   "metadata": {},
   "outputs": [
    {
     "data": {
      "image/png": "[encoded data removed]",
      "text/plain": [
       "<Figure size 432x288 with 1 Axes>"
      ]
     },
     "metadata": {
      "needs_background": "light"
     },
     "output_type": "display_data"
    }
   ],
   "source": [
    "# plot of vote_average and vote_count\n",
    "tmdb_movies.plot(x='vote_average', y='vote_count', title = 'Plot of vote_count and vote_average', kind='scatter', color='red');"
   ]
  },
  {
   "cell_type": "markdown",
   "metadata": {},
   "source": [
    "#### Research Question 8: Findings\n",
    "\n",
    "The plot of vote_count and vote_average shows that the distribution is negatively skewed (that is, left skewed). Meaning, most of the data are concentrated on the right side of the plot (most of the vote_count had a high average)."
   ]
  },
  {
   "cell_type": "markdown",
   "metadata": {},
   "source": [
    "<a id='conclusions'></a>\n",
    "## Conclusions\n",
    "\n",
    "The dataset before analysis was fairly cleaned. As such only a few cleaning was done on it. The dataset shows that movies were mostly released in 2011 with the least number released in 1960. Most of the movies had a vote count of 10 and as well, most of the movies released were drama. Further analysis of the dataset shows that a good number of the movies were produced on a budget of 20 million each. About seven of the movies made a revenue of 12 million each. In terms of highest runtime, about 184 movies had a runtime of 90 minutes. Other plots of the analysis shows that most of the movies with higher popularity had runtime between 0-200 minutes. And the vote average of the vote count of most of the movies were on a high side.\n",
    "    Further research would help address: the null value cases of the genres column, the zero values in the budget column (a budget cannot be zero), the zero values in the revenue column amongst others. "
   ]
  },
  {
   "cell_type": "markdown",
   "metadata": {},
   "source": [
    "<a id='limitations'></a>\n",
    "## Limitations\n",
    "\n",
    "The analysis of the dataset was done after it was cleaned further. Thus, in the cleaning approach executed (such as the removal of the null rows of the genres column and the zero values of the budget column) some valuable information of other columns of the dataset not having either null or zero values may have been dropped. It therefore impacted on the nature of answers gotten from the various questions raised."
   ]
  },
  {
   "cell_type": "markdown",
   "metadata": {},
   "source": [
    "<a id='references'></a>\n",
    "## References\n",
    "\n",
    "[1]     \n",
    "\n",
    "https://www.geeksforgeeks.org/how-to-plot-multiple-data-columns-in-a-dataframe/#:~:text=Pandas%20has%20a%20tight%20integration,argument%20of%20the%20plot%20function\n",
    "\n",
    "[2]\n",
    "\n",
    "https://www.rapidtables.com/web/color/RGB_Color.html#color-table\n",
    "\n",
    "[3]\n",
    "\n",
    "https://www.shanelynn.ie/bar-plots-in-python-using-pandas-dataframes/\n",
    "\n",
    "[4]\n",
    "\n",
    "https://www.adamsmith.haus/python/answers/how-to-get-a-group-from-a-pandas-groupby-object-in-python\n",
    "\n",
    "[5]\n",
    "\n",
    "https://dfrieds.com/data-analysis/value-counts-python-pandas.html\n",
    "\n",
    "[6]\n",
    "\n",
    "https://www.codegrepper.com/code-examples/python/how+to+increase+the+size+of+scatter+plot+in+python\n",
    "\n",
    "[7]\n",
    "\n",
    "https://corporatefinanceinstitute.com/resources/knowledge/other/negatively-skewed-distribution/#:~:text=In%20statistics%2C%20a%20negatively%20skewed,the%20distribution%20graph%20is%20longer\n",
    "\n",
    "[8]\n",
    "\n",
    "https://classroom.udacity.com/nanodegrees/nd002-alg-t2/parts/cd0000/modules/306f0239-bb80-45c6-bf45-37ee745a63d6/lessons/ls0526/concepts/f41d3e13-9bbc-45a7-8e7e-14f9e5ba1607\n",
    "\n",
    "[9]\n",
    "\n",
    "https://stackoverflow.com/questions/18172851/deleting-dataframe-row-in-pandas-based-on-column-value\n",
    "\n",
    "[10]\n",
    "\n",
    "https://stackoverflow.com/questions/63650646/add-labels-and-title-to-a-plot-made-using-pandas\n",
    "\n",
    "[11]\n",
    "\n",
    "https://www.kaggle.com/code/residentmario/univariate-plotting-with-pandas/notebook\n",
    "\n",
    "[12]\n",
    "\n",
    "https://www.freecodecamp.org/news/args-and-kwargs-in-python/#:~:text=**kwargs%20allows%20us%20to,denote%20this%20type%20of%20argument.\n"
   ]
  }
 ],
 "metadata": {
  "kernelspec": {
   "display_name": "Python 3 (ipykernel)",
   "language": "python",
   "name": "python3"
  },
  "language_info": {
   "codemirror_mode": {
    "name": "ipython",
    "version": 3
   },
   "file_extension": ".py",
   "mimetype": "text/x-python",
   "name": "python",
   "nbconvert_exporter": "python",
   "pygments_lexer": "ipython3",
   "version": "3.9.12"
  }
 },
 "nbformat": 4,
 "nbformat_minor": 2
}
